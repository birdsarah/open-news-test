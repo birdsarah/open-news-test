{
 "cells": [
  {
   "cell_type": "code",
   "execution_count": 20,
   "metadata": {},
   "outputs": [],
   "source": [
    "import json\n",
    "import pandas as pd\n",
    "from collections import Counter, defaultdict\n",
    "import os"
   ]
  },
  {
   "cell_type": "code",
   "execution_count": 21,
   "metadata": {},
   "outputs": [
    {
     "data": {
      "text/plain": [
       "['3.json', '0.json', '1.json', '2.json', '4.json']"
      ]
     },
     "execution_count": 21,
     "metadata": {},
     "output_type": "execute_result"
    }
   ],
   "source": [
    "os.listdir('data/z')"
   ]
  },
  {
   "cell_type": "code",
   "execution_count": 2,
   "metadata": {},
   "outputs": [
    {
     "data": {
      "text/html": [
       "<div>\n",
       "<style scoped>\n",
       "    .dataframe tbody tr th:only-of-type {\n",
       "        vertical-align: middle;\n",
       "    }\n",
       "\n",
       "    .dataframe tbody tr th {\n",
       "        vertical-align: top;\n",
       "    }\n",
       "\n",
       "    .dataframe thead th {\n",
       "        text-align: right;\n",
       "    }\n",
       "</style>\n",
       "<table border=\"1\" class=\"dataframe\">\n",
       "  <thead>\n",
       "    <tr style=\"text-align: right;\">\n",
       "      <th></th>\n",
       "      <th>https://www.alexa.com/topsites/category/News</th>\n",
       "      <th>Unnamed: 1</th>\n",
       "      <th>Unnamed: 2</th>\n",
       "    </tr>\n",
       "  </thead>\n",
       "  <tbody>\n",
       "    <tr>\n",
       "      <th>0</th>\n",
       "      <td>Publisher URL (Home page)</td>\n",
       "      <td>Story Page</td>\n",
       "      <td>JSON LD</td>\n",
       "    </tr>\n",
       "    <tr>\n",
       "      <th>1</th>\n",
       "      <td>https://www.reddit.com/</td>\n",
       "      <td>https://www.reddit.com/r/politics/comments/bn1...</td>\n",
       "      <td>None</td>\n",
       "    </tr>\n",
       "    <tr>\n",
       "      <th>2</th>\n",
       "      <td>https://www.washingtonpost.com</td>\n",
       "      <td>https://www.washingtonpost.com/politics/trump-...</td>\n",
       "      <td>\\n{\\n  \"@context\":\"http://schema.org\",\\n\\n  \\n...</td>\n",
       "    </tr>\n",
       "    <tr>\n",
       "      <th>3</th>\n",
       "      <td>https://www.washingtonpost.com</td>\n",
       "      <td>https://www.washingtonpost.com/business/2019/0...</td>\n",
       "      <td>\\n{\\n  \"@context\":\"http://schema.org\",\\n\\n  \\n...</td>\n",
       "    </tr>\n",
       "    <tr>\n",
       "      <th>4</th>\n",
       "      <td>NaN</td>\n",
       "      <td>NaN</td>\n",
       "      <td>NaN</td>\n",
       "    </tr>\n",
       "  </tbody>\n",
       "</table>\n",
       "</div>"
      ],
      "text/plain": [
       "  https://www.alexa.com/topsites/category/News  \\\n",
       "0                    Publisher URL (Home page)   \n",
       "1                      https://www.reddit.com/   \n",
       "2               https://www.washingtonpost.com   \n",
       "3               https://www.washingtonpost.com   \n",
       "4                                          NaN   \n",
       "\n",
       "                                          Unnamed: 1  \\\n",
       "0                                         Story Page   \n",
       "1  https://www.reddit.com/r/politics/comments/bn1...   \n",
       "2  https://www.washingtonpost.com/politics/trump-...   \n",
       "3  https://www.washingtonpost.com/business/2019/0...   \n",
       "4                                                NaN   \n",
       "\n",
       "                                          Unnamed: 2  \n",
       "0                                            JSON LD  \n",
       "1                                               None  \n",
       "2  \\n{\\n  \"@context\":\"http://schema.org\",\\n\\n  \\n...  \n",
       "3  \\n{\\n  \"@context\":\"http://schema.org\",\\n\\n  \\n...  \n",
       "4                                                NaN  "
      ]
     },
     "execution_count": 2,
     "metadata": {},
     "output_type": "execute_result"
    }
   ],
   "source": [
    "df = pd.read_csv('Ad Authenticity DB - Sheet1.csv')\n",
    "df.head()a"
   ]
  },
  {
   "cell_type": "code",
   "execution_count": 3,
   "metadata": {},
   "outputs": [
    {
     "data": {
      "text/plain": [
       "1                                                  None\n",
       "2     \\n{\\n  \"@context\":\"http://schema.org\",\\n\\n  \\n...\n",
       "3     \\n{\\n  \"@context\":\"http://schema.org\",\\n\\n  \\n...\n",
       "4                                                   NaN\n",
       "5     \\n{\\n  \"@context\":\"http://schema.org\",\\n\\n  \\n...\n",
       "6                                                  None\n",
       "7     \\n      {\\n        \"name\": \"Los Angeles Times\"...\n",
       "8     \\n      {\\n        \"@context\": \"http://schema....\n",
       "9     \\n{\\n    \"@context\": \"http://schema.org\",\\n   ...\n",
       "10                                                 None\n",
       "11    \\n {\\n   \"@context\": \"http://schema.org\",\\n   ...\n",
       "12                                                 None\n",
       "13    \\n        {\\n            \"@context\": \"http://s...\n",
       "14                                                 None\n",
       "15                                                 None\n",
       "16                                                 None\n",
       "17                                                 None\n",
       "18                                                 None\n",
       "19    \\n  {\\n    \"@context\": \"http://schema.org\",\\n ...\n",
       "20    \\n        {\"@type\":\"Organization\",\"@context\":\"...\n",
       "21    \\n{\"@context\":\"https://schema.org\",\"@type\":\"Br...\n",
       "22    \\n  {\"publisher\": {\"url\": \"https://www.liberat...\n",
       "23                                                 None\n",
       "24                                                 None\n",
       "25    {\"@context\":\"https://schema.org\",\"@type\":\"News...\n",
       "26    {\"@context\": \"https://schema.org\",\"@type\": \"Ne...\n",
       "27    \\n      {\\n        \"@context\": \"http://schema....\n",
       "28    {\"@context\":{\"@vocab\":\"http://schema.org\",\"art...\n",
       "29    \\n        {\\n    \"@context\": \"http:\\/\\/schema....\n",
       "30    \\n        {\\n    \"@context\": \"http:\\/\\/schema....\n",
       "31                                                 None\n",
       "32    \\n                {  \\n                       ...\n",
       "33    {\"@context\":\"http://schema.org\",\"@type\":\"Bread...\n",
       "34    \\n        {\\n            \"@context\": \"http://s...\n",
       "35    \\n        {\\n            \"@context\": \"http://s...\n",
       "36    \\n        {\\n            \"@context\": \"http://s...\n",
       "37    \\n        {\\n            \"@context\": \"http://s...\n",
       "38    \\n        {\\n            \"@context\": \"http://s...\n",
       "Name: Unnamed: 2, dtype: object"
      ]
     },
     "execution_count": 3,
     "metadata": {},
     "output_type": "execute_result"
    }
   ],
   "source": [
    "schemas = df['Unnamed: 2'][1:]\n",
    "schemas"
   ]
  },
  {
   "cell_type": "code",
   "execution_count": 4,
   "metadata": {},
   "outputs": [
    {
     "data": {
      "text/plain": [
       "24"
      ]
     },
     "execution_count": 4,
     "metadata": {},
     "output_type": "execute_result"
    }
   ],
   "source": [
    "data = []\n",
    "for item in schemas:\n",
    "    try:\n",
    "        data.append(json.loads(str(item)))\n",
    "    except json.JSONDecodeError as e:\n",
    "        pass\n",
    "len(data)"
   ]
  },
  {
   "cell_type": "code",
   "execution_count": 5,
   "metadata": {},
   "outputs": [],
   "source": [
    "with open('compiled.json', 'w') as f:\n",
    "    f.write(json.dumps(data))"
   ]
  },
  {
   "cell_type": "code",
   "execution_count": 13,
   "metadata": {},
   "outputs": [],
   "source": [
    "publisher_types = []\n",
    "content_types =  []\n",
    "publisher_names = []\n",
    "authors = []\n",
    "keywords = []\n",
    "for d in data:\n",
    "    pub = d.get('publisher', {'@type': None, 'name': None})\n",
    "    publisher_types.append(pub['@type'])\n",
    "    publisher_names.append(pub['name'])\n",
    "    content_types.append(d['@type'])\n",
    "    authors.append(d.get('author', {}))\n",
    "    keywords.append(d.get('keywords', []))"
   ]
  },
  {
   "cell_type": "code",
   "execution_count": 19,
   "metadata": {},
   "outputs": [
    {
     "data": {
      "text/plain": [
       "defaultdict(collections.Counter,\n",
       "            {'The Washington Post': Counter(),\n",
       "             None: Counter(),\n",
       "             'Los Angeles Times': Counter({'Uber': 1,\n",
       "                      'China': 1,\n",
       "                      'Snap Inc.': 1,\n",
       "                      'Garrett Camp': 1,\n",
       "                      'Alibaba Group': 1}),\n",
       "             'oregonlive.com': Counter({'@breaking-news': 6,\n",
       "                      '@hp-top-stories': 6,\n",
       "                      '@oregon-breaking': 1}),\n",
       "             'Wall Street Journal': Counter({'audit': 1,\n",
       "                      'congressional investigations': 1,\n",
       "                      'democrats': 1,\n",
       "                      'irs': 1,\n",
       "                      'probes': 1,\n",
       "                      'subpoena': 1,\n",
       "                      'tax refund': 1,\n",
       "                      'tax returns': 1,\n",
       "                      'trump taxes': 1,\n",
       "                      'where is my refund': 1,\n",
       "                      'Rep. Richard Neal': 1,\n",
       "                      'Trump': 1,\n",
       "                      'Richard Neal': 1,\n",
       "                      'Charles Rettig': 1,\n",
       "                      'government finance': 1,\n",
       "                      'government budget': 1,\n",
       "                      'taxation': 1,\n",
       "                      'economic news': 1,\n",
       "                      'political': 1,\n",
       "                      'general news': 1,\n",
       "                      'politics': 1,\n",
       "                      'international relations': 1,\n",
       "                      'domestic politics': 1,\n",
       "                      'government bodies': 1,\n",
       "                      'executive branch': 1,\n",
       "                      'treasury department': 1,\n",
       "                      'politics & policy': 1}),\n",
       "             'Libération': Counter({'Emmanuel Macron': 1,\n",
       "                      'Président de la République': 1,\n",
       "                      'Europe': 1,\n",
       "                      'Renaissance': 1,\n",
       "                      'Union européenne': 1,\n",
       "                      'France': 1,\n",
       "                      'Sibiu': 1,\n",
       "                      'Les Républicains': 1,\n",
       "                      'Jean-Pierre Raffarin': 1,\n",
       "                      'Média': 1,\n",
       "                      'François-Xavier Bellamy': 1,\n",
       "                      'Droite': 1,\n",
       "                      'Nationalisme': 1,\n",
       "                      'Gueule de bois': 1,\n",
       "                      'Concurrence': 1,\n",
       "                      'Nathalie Loiseau': 1,\n",
       "                      'Marine Le Pen': 1,\n",
       "                      'Roumanie': 1,\n",
       "                      'Sénat': 1,\n",
       "                      'Extrême droite': 1,\n",
       "                      'Maire': 1,\n",
       "                      'Gérard Larcher': 1,\n",
       "                      'Harris Interactive': 1,\n",
       "                      'Grande-Bretagne': 1,\n",
       "                      'Mème': 1,\n",
       "                      'Nouvelle-Calédonie': 1,\n",
       "                      'RMC': 1,\n",
       "                      \"Référendum sur l'appartenance du Royaume-Uni à l'Union européenne\": 1,\n",
       "                      'Plébiscite': 1,\n",
       "                      'Conseil européen': 1,\n",
       "                      'Référendum': 1,\n",
       "                      'Élection présidentielle de 2012': 1,\n",
       "                      'Daniel Cohn-Bendit': 1,\n",
       "                      'Lobbying': 1,\n",
       "                      'MoDem': 1,\n",
       "                      'LCI': 1,\n",
       "                      'Gauche': 1,\n",
       "                      'Nice': 1,\n",
       "                      'Strasbourg': 1,\n",
       "                      'Majorité présidentielle': 1,\n",
       "                      'Édouard Philippe': 1,\n",
       "                      'France Inter': 1,\n",
       "                      'Arnaud Robinet': 1,\n",
       "                      'Christian Estrosi': 1,\n",
       "                      'Enjeu': 1,\n",
       "                      'Parlement européen': 1,\n",
       "                      'Risque': 1,\n",
       "                      \"Chef de l'État\": 1,\n",
       "                      'Le Figaro': 1,\n",
       "                      'Ecolo': 1,\n",
       "                      'Liaison mécanique': 1,\n",
       "                      'Premier ministre': 1,\n",
       "                      'Député européen': 1}),\n",
       "             'Times Of India': Counter({'India': 1,\n",
       "                      ' India news': 1,\n",
       "                      ' India news today': 1,\n",
       "                      ' Today news': 1,\n",
       "                      ' Google news': 1,\n",
       "                      ' Breaking news': 1,\n",
       "                      'Ranjan Gogoi': 1,\n",
       "                      'Rakesh Khanna': 1,\n",
       "                      'Kottayan Katankot Venugopal': 1,\n",
       "                      'CJI case': 1}),\n",
       "             'CNBC': Counter({'Articles': 1,\n",
       "                      'Technology': 1,\n",
       "                      'CNBC Disruptor 50': 1,\n",
       "                      'LYFT Inc': 1,\n",
       "                      'Uber Technologies Inc': 1,\n",
       "                      'IPOs': 1,\n",
       "                      'Transportation': 1,\n",
       "                      'Investing': 1,\n",
       "                      'Markets': 1,\n",
       "                      'source:tagname:CNBC US Source': 1}),\n",
       "             'MSNBC': Counter(),\n",
       "             'Houston Chronicle': Counter(),\n",
       "             'San Francisco Chronicle': Counter(),\n",
       "             'Hindustan Times': Counter({'1984 anti-Sikh riots': 1,\n",
       "                      'sikh riots': 1,\n",
       "                      'Sam Pitroda': 1,\n",
       "                      'Congress': 1,\n",
       "                      'Rahul Gandhi': 1})})"
      ]
     },
     "execution_count": 19,
     "metadata": {},
     "output_type": "execute_result"
    }
   ],
   "source": [
    "keyword_by_publisher = defaultdict(Counter)\n",
    "for d in data:\n",
    "    pub = d.get('publisher', {'@type': None, 'name': None})\n",
    "    keywords = d.get('keywords', [])\n",
    "    if isinstance(keywords, str):\n",
    "        keywords = keywords.split(',')\n",
    "    keyword_by_publisher[pub['name']].update(keywords)\n",
    "keyword_by_publisher"
   ]
  },
  {
   "cell_type": "code",
   "execution_count": 8,
   "metadata": {},
   "outputs": [
    {
     "data": {
      "text/plain": [
       "Counter({'NewsMediaOrganization': 5, None: 6, 'Organization': 13})"
      ]
     },
     "execution_count": 8,
     "metadata": {},
     "output_type": "execute_result"
    }
   ],
   "source": [
    "Counter(publisher_types)"
   ]
  },
  {
   "cell_type": "code",
   "execution_count": 9,
   "metadata": {},
   "outputs": [
    {
     "data": {
      "text/plain": [
       "Counter({'The Washington Post': 3,\n",
       "         None: 6,\n",
       "         'Los Angeles Times': 1,\n",
       "         'oregonlive.com': 6,\n",
       "         'Wall Street Journal': 1,\n",
       "         'Libération': 1,\n",
       "         'Times Of India': 1,\n",
       "         'CNBC': 1,\n",
       "         'MSNBC': 1,\n",
       "         'Houston Chronicle': 1,\n",
       "         'San Francisco Chronicle': 1,\n",
       "         'Hindustan Times': 1})"
      ]
     },
     "execution_count": 9,
     "metadata": {},
     "output_type": "execute_result"
    }
   ],
   "source": [
    "Counter(publisher_names)"
   ]
  },
  {
   "cell_type": "code",
   "execution_count": 10,
   "metadata": {},
   "outputs": [
    {
     "data": {
      "text/plain": [
       "Counter({'ReportageNewsArticle': 3,\n",
       "         'Organization': 3,\n",
       "         'NewsArticle': 15,\n",
       "         'BreadcrumbList': 3})"
      ]
     },
     "execution_count": 10,
     "metadata": {},
     "output_type": "execute_result"
    }
   ],
   "source": [
    "Counter(content_types)"
   ]
  },
  {
   "cell_type": "code",
   "execution_count": 11,
   "metadata": {},
   "outputs": [
    {
     "data": {
      "text/plain": [
       "Counter({'Suhauna Hussain ': 1,\n",
       "         'Noelle Crombie | The Oregonian/OregonLive': 1,\n",
       "         'Alain Auffray': 1,\n",
       "         'Julian Gill': 1,\n",
       "         'Amy Graff': 1,\n",
       "         'Gordon R. Friedman | The Oregonian/OregonLive': 5})"
      ]
     },
     "execution_count": 11,
     "metadata": {},
     "output_type": "execute_result"
    }
   ],
   "source": [
    "author_names = []\n",
    "\n",
    "for x in authors:\n",
    "    try:\n",
    "        author_names.append(x[0]['name'])\n",
    "    except KeyError as e:\n",
    "        pass\n",
    "Counter(author_names)"
   ]
  },
  {
   "cell_type": "code",
   "execution_count": null,
   "metadata": {},
   "outputs": [],
   "source": []
  }
 ],
 "metadata": {
  "kernelspec": {
   "display_name": "Python 3",
   "language": "python",
   "name": "python3"
  },
  "language_info": {
   "codemirror_mode": {
    "name": "ipython",
    "version": 3
   },
   "file_extension": ".py",
   "mimetype": "text/x-python",
   "name": "python",
   "nbconvert_exporter": "python",
   "pygments_lexer": "ipython3",
   "version": "3.7.3"
  }
 },
 "nbformat": 4,
 "nbformat_minor": 2
}
